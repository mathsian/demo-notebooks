{
 "cells": [
  {
   "cell_type": "code",
   "execution_count": 1,
   "metadata": {},
   "outputs": [
    {
     "data": {
      "text/html": [
       "<div id=\"msg\">Hello world</div>\n",
       "<button id='hello'>Hello</button>\n",
       "<button id='world'>World</button>"
      ],
      "text/plain": [
       "<IPython.core.display.HTML object>"
      ]
     },
     "metadata": {},
     "output_type": "display_data"
    }
   ],
   "source": [
    "%%html\n",
    "<div id=\"msg\">Hello world</div>\n",
    "<button id='hello'>Hello</button>\n",
    "<button id='world'>World</button>"
   ]
  },
  {
   "cell_type": "code",
   "execution_count": 2,
   "metadata": {},
   "outputs": [
    {
     "data": {
      "application/javascript": [
       "document.getElementById('hello').onclick =\n",
       "function() {\n",
       "    document.getElementById('msg').innerHTML = \"<b>Hello</b> world\"\n",
       "}\n",
       "document.getElementById('world').onclick =\n",
       "function() {\n",
       "    document.getElementById('msg').innerHTML = \"Hello <b>world</b>\"\n",
       "}"
      ],
      "text/plain": [
       "<IPython.core.display.Javascript object>"
      ]
     },
     "metadata": {},
     "output_type": "display_data"
    }
   ],
   "source": [
    "%%js\n",
    "document.getElementById('hello').onclick =\n",
    "function() {\n",
    "    document.getElementById('msg').innerHTML = \"<b>Hello</b> world\"\n",
    "}\n",
    "document.getElementById('world').onclick =\n",
    "function() {\n",
    "    document.getElementById('msg').innerHTML = \"Hello <b>world</b>\"\n",
    "}"
   ]
  }
 ],
 "metadata": {
  "kernelspec": {
   "display_name": "Python 3",
   "language": "python",
   "name": "python3"
  },
  "language_info": {
   "codemirror_mode": {
    "name": "ipython",
    "version": 3
   },
   "file_extension": ".py",
   "mimetype": "text/x-python",
   "name": "python",
   "nbconvert_exporter": "python",
   "pygments_lexer": "ipython3",
   "version": "3.5.2"
  }
 },
 "nbformat": 4,
 "nbformat_minor": 2
}

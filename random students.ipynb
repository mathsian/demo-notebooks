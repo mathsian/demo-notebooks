{
 "cells": [
  {
   "cell_type": "markdown",
   "metadata": {
    "slideshow": {
     "slide_type": "slide"
    }
   },
   "source": [
    "Sort class into random order"
   ]
  },
  {
   "cell_type": "code",
   "execution_count": 1,
   "metadata": {
    "slideshow": {
     "slide_type": "-"
    }
   },
   "outputs": [
    {
     "data": {
      "text/plain": [
       "['Benito',\n",
       " 'Alf',\n",
       " 'Chad',\n",
       " 'Divine',\n",
       " 'Grace',\n",
       " 'J',\n",
       " 'Erica',\n",
       " 'Hardip',\n",
       " 'Fall',\n",
       " 'Kanye',\n",
       " 'Ian']"
      ]
     },
     "execution_count": 1,
     "metadata": {},
     "output_type": "execute_result"
    }
   ],
   "source": [
    "import random\n",
    "a = [\"Alf\",\"Benito\",\"Chad\",\"Divine\",\"Erica\",\"Fall\",\"Grace\",\"Hardip\",\"Ian\",\"J\",\"Kanye\"]\n",
    "random.shuffle(a)\n",
    "a"
   ]
  },
  {
   "cell_type": "markdown",
   "metadata": {
    "slideshow": {
     "slide_type": "slide"
    }
   },
   "source": [
    "Pick two students at random"
   ]
  },
  {
   "cell_type": "code",
   "execution_count": 2,
   "metadata": {
    "slideshow": {
     "slide_type": "-"
    }
   },
   "outputs": [
    {
     "data": {
      "text/plain": [
       "array(['Grace', 'Chad'],\n",
       "      dtype='<U6')"
      ]
     },
     "execution_count": 2,
     "metadata": {},
     "output_type": "execute_result"
    }
   ],
   "source": [
    "import numpy as np\n",
    "np.random.choice(a,2)"
   ]
  },
  {
   "cell_type": "markdown",
   "metadata": {
    "slideshow": {
     "slide_type": "slide"
    }
   },
   "source": [
    "Create pairs out of the whole class"
   ]
  },
  {
   "cell_type": "code",
   "execution_count": 3,
   "metadata": {
    "slideshow": {
     "slide_type": "-"
    }
   },
   "outputs": [
    {
     "data": {
      "text/plain": [
       "[['Hardip', 'Divine', 'Grace'],\n",
       " ['Chad', 'Kanye', 'Benito'],\n",
       " ['Alf', 'Erica', 'Ian'],\n",
       " ['Fall', 'J']]"
      ]
     },
     "execution_count": 3,
     "metadata": {},
     "output_type": "execute_result"
    }
   ],
   "source": [
    "remaining = a.copy()\n",
    "groups = []\n",
    "size = 3\n",
    "while remaining:\n",
    "    group = []\n",
    "    while len(group) < size and remaining:\n",
    "        group.append(remaining.pop(random.randint(0,len(remaining)-1)))\n",
    "    groups.append(group)\n",
    "groups"
   ]
  }
 ],
 "metadata": {
  "celltoolbar": "Slideshow",
  "kernelspec": {
   "display_name": "Python 3",
   "language": "python",
   "name": "python3"
  },
  "language_info": {
   "codemirror_mode": {
    "name": "ipython",
    "version": 3
   },
   "file_extension": ".py",
   "mimetype": "text/x-python",
   "name": "python",
   "nbconvert_exporter": "python",
   "pygments_lexer": "ipython3",
   "version": "3.5.2"
  },
  "livereveal": {
   "theme": "ada"
  }
 },
 "nbformat": 4,
 "nbformat_minor": 2
}

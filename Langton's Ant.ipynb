{
 "cells": [
  {
   "cell_type": "markdown",
   "metadata": {},
   "source": [
    "# Langton's ant\n",
    "\n",
    "[Background](http://mathworld.wolfram.com/LangtonsAnt.html)\n",
    "\n",
    "Using this cellular automaton to demonstrate\n",
    "\n",
    "* Python generators\n",
    "* `defaultdict`\n",
    "* `ipythonblocks`\n",
    "* Basic notebook interactivity"
   ]
  },
  {
   "cell_type": "code",
   "execution_count": 1,
   "metadata": {},
   "outputs": [],
   "source": [
    "# Convenience functions for turning and moving\n",
    "def cw(orientation):\n",
    "    return (orientation[1],-orientation[0])\n",
    "def acw(orientation):\n",
    "    return (-orientation[1],orientation[0])\n",
    "def move(position, orientation):\n",
    "    return (position[0]+orientation[0], position[1]+orientation[1])"
   ]
  },
  {
   "cell_type": "code",
   "execution_count": 2,
   "metadata": {},
   "outputs": [
    {
     "data": {
      "text/plain": [
       "(1, 0)"
      ]
     },
     "execution_count": 2,
     "metadata": {},
     "output_type": "execute_result"
    }
   ],
   "source": [
    "acw(acw((-1,0)))"
   ]
  },
  {
   "cell_type": "code",
   "execution_count": 3,
   "metadata": {},
   "outputs": [],
   "source": [
    "from collections import defaultdict"
   ]
  },
  {
   "cell_type": "code",
   "execution_count": 4,
   "metadata": {},
   "outputs": [],
   "source": [
    "from ipythonblocks import BlockGrid"
   ]
  },
  {
   "cell_type": "markdown",
   "metadata": {},
   "source": [
    "A generator is a good choice. Each `next` will move the ant once.\n",
    "\n",
    "I've used a `defaultdict` as the underlying structure, the keys being coordinate pairs and the values being `0` for white and `1` for black. This allows the grid to grow indefinitely, and respond with a default of `0` for coordinates the ant hasn't visited yet, making it easier to draw later."
   ]
  },
  {
   "cell_type": "code",
   "execution_count": 5,
   "metadata": {},
   "outputs": [],
   "source": [
    "def langtongenerator():\n",
    "    \n",
    "    langtongrid = defaultdict(int)\n",
    "    position = (0,0)\n",
    "    orientation = (0,1)\n",
    "    while True:\n",
    "        # If cell is white\n",
    "        if langtongrid[position] == 0:\n",
    "            # Turn it black\n",
    "            langtongrid[position] = 1\n",
    "            # Rotate clockwise\n",
    "            orientation = cw(orientation)\n",
    "        # If cell is black\n",
    "        else:\n",
    "            # Turn it white\n",
    "            langtongrid[position] = 0\n",
    "            # Rotate anticlockwise\n",
    "            orientation = acw(orientation)\n",
    "        # Move\n",
    "        position = move(position, orientation)\n",
    "        yield langtongrid"
   ]
  },
  {
   "cell_type": "code",
   "execution_count": 6,
   "metadata": {},
   "outputs": [],
   "source": [
    "lg = langtongenerator()"
   ]
  },
  {
   "cell_type": "code",
   "execution_count": 7,
   "metadata": {},
   "outputs": [
    {
     "data": {
      "text/plain": [
       "defaultdict(int, {(0, 0): 1})"
      ]
     },
     "execution_count": 7,
     "metadata": {},
     "output_type": "execute_result"
    }
   ],
   "source": [
    "next(lg)"
   ]
  },
  {
   "cell_type": "code",
   "execution_count": 8,
   "metadata": {
    "scrolled": false
   },
   "outputs": [],
   "source": [
    "def drawgrid(langtongrid,blocksize=20):\n",
    "    minx = min([i for (i,_) in langtongrid.keys()])\n",
    "    maxx = max([i for (i,_) in langtongrid.keys()])\n",
    "    miny = min([i for (_,i) in langtongrid.keys()])\n",
    "    maxy = max([i for (_,i) in langtongrid.keys()])\n",
    "    grid = BlockGrid(maxx-minx+1,maxy-miny+1,block_size=blocksize)\n",
    "    for block in grid:\n",
    "        y = block.row+miny\n",
    "        x = block.col+minx\n",
    "        if langtongrid[(x, y)] == 0:\n",
    "            block.rgb = (128,128,128)\n",
    "        else:\n",
    "            block.rgb = (0,0,0)\n",
    "    return grid"
   ]
  },
  {
   "cell_type": "code",
   "execution_count": 9,
   "metadata": {},
   "outputs": [
    {
     "data": {
      "text/html": [
       "<style type=\"text/css\">table.blockgrid {border: none;} .blockgrid tr {border: none;} .blockgrid td {padding: 0px;} #blocks32091e60-42d2-4bf8-8e87-cb0bc39d8ca1 td {border: 1px solid white;}</style><table id=\"blocks32091e60-42d2-4bf8-8e87-cb0bc39d8ca1\" class=\"blockgrid\"><tbody><tr><td title=\"Index: [0, 0]&#10;Color: (0, 0, 0)\" style=\"width: 20px; height: 20px;background-color: rgb(0, 0, 0);\"></td><td title=\"Index: [0, 1]&#10;Color: (0, 0, 0)\" style=\"width: 20px; height: 20px;background-color: rgb(0, 0, 0);\"></td></tr></tbody></table>"
      ],
      "text/plain": [
       "<ipythonblocks.ipythonblocks.BlockGrid at 0x7f2e20417d68>"
      ]
     },
     "execution_count": 9,
     "metadata": {},
     "output_type": "execute_result"
    }
   ],
   "source": [
    "drawgrid(next(lg))"
   ]
  },
  {
   "cell_type": "markdown",
   "metadata": {},
   "source": [
    "Now to make it slightly more interactive."
   ]
  },
  {
   "cell_type": "code",
   "execution_count": 10,
   "metadata": {},
   "outputs": [],
   "source": [
    "import ipywidgets as widgets"
   ]
  },
  {
   "cell_type": "code",
   "execution_count": 11,
   "metadata": {},
   "outputs": [
    {
     "data": {
      "application/vnd.jupyter.widget-view+json": {
       "model_id": "d3026c396588469c8db88cf92e470bdd",
       "version_major": 2,
       "version_minor": 0
      },
      "text/html": [
       "<p>Failed to display Jupyter Widget of type <code>interactive</code>.</p>\n",
       "<p>\n",
       "  If you're reading this message in Jupyter Notebook or JupyterLab, it may mean\n",
       "  that the widgets JavaScript is still loading. If this message persists, it\n",
       "  likely means that the widgets JavaScript library is either not installed or\n",
       "  not enabled. See the <a href=\"https://ipywidgets.readthedocs.io/en/stable/user_install.html\">Jupyter\n",
       "  Widgets Documentation</a> for setup instructions.\n",
       "</p>\n",
       "<p>\n",
       "  If you're reading this message in another notebook frontend (for example, a static\n",
       "  rendering on GitHub or <a href=\"https://nbviewer.jupyter.org/\">NBViewer</a>),\n",
       "  it may mean that your frontend doesn't currently support widgets.\n",
       "</p>\n"
      ],
      "text/plain": [
       "interactive(children=(Button(description='Run Interact', style=ButtonStyle()), Output()), _dom_classes=('widget-interact',))"
      ]
     },
     "metadata": {},
     "output_type": "display_data"
    }
   ],
   "source": [
    "lg = langtongenerator()\n",
    "\n",
    "def fn():\n",
    "    drawgrid(next(lg)).show()\n",
    "\n",
    "widgets.interact_manual(fn, text=\"Move the ant\");"
   ]
  },
  {
   "cell_type": "markdown",
   "metadata": {},
   "source": [
    "It gets tiring hitting that button over and over though, so let's use a `play` widget."
   ]
  },
  {
   "cell_type": "code",
   "execution_count": 12,
   "metadata": {
    "scrolled": true
   },
   "outputs": [
    {
     "data": {
      "application/vnd.jupyter.widget-view+json": {
       "model_id": "0ef1cd92c66f4eacaf1f94fa0c1bb0d8",
       "version_major": 2,
       "version_minor": 0
      },
      "text/html": [
       "<p>Failed to display Jupyter Widget of type <code>interactive</code>.</p>\n",
       "<p>\n",
       "  If you're reading this message in Jupyter Notebook or JupyterLab, it may mean\n",
       "  that the widgets JavaScript is still loading. If this message persists, it\n",
       "  likely means that the widgets JavaScript library is either not installed or\n",
       "  not enabled. See the <a href=\"https://ipywidgets.readthedocs.io/en/stable/user_install.html\">Jupyter\n",
       "  Widgets Documentation</a> for setup instructions.\n",
       "</p>\n",
       "<p>\n",
       "  If you're reading this message in another notebook frontend (for example, a static\n",
       "  rendering on GitHub or <a href=\"https://nbviewer.jupyter.org/\">NBViewer</a>),\n",
       "  it may mean that your frontend doesn't currently support widgets.\n",
       "</p>\n"
      ],
      "text/plain": [
       "interactive(children=(Play(value=0, description='p', interval=0), Output()), _dom_classes=('widget-interact',))"
      ]
     },
     "metadata": {},
     "output_type": "display_data"
    }
   ],
   "source": [
    "lg = langtongenerator()\n",
    "def fn(p):\n",
    "    return drawgrid(next(lg),blocksize=5)\n",
    "# This will play 100 iterations. Hit the loop button if you just want to keep going\n",
    "play = widgets.Play(value=0,min=0,max=100,step=1,interval=0)\n",
    "widgets.interact(fn,p=play);"
   ]
  },
  {
   "cell_type": "markdown",
   "metadata": {},
   "source": [
    "This could be made faster by only redrawing the parts of the grid affected each iteration but I like having the generating and drawing code isolated."
   ]
  }
 ],
 "metadata": {
  "kernelspec": {
   "display_name": "Python 3",
   "language": "python",
   "name": "python3"
  },
  "language_info": {
   "codemirror_mode": {
    "name": "ipython",
    "version": 3
   },
   "file_extension": ".py",
   "mimetype": "text/x-python",
   "name": "python",
   "nbconvert_exporter": "python",
   "pygments_lexer": "ipython3",
   "version": "3.5.2"
  }
 },
 "nbformat": 4,
 "nbformat_minor": 2
}

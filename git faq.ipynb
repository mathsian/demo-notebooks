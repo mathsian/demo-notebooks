{
 "cells": [
  {
   "cell_type": "markdown",
   "metadata": {},
   "source": [
    "## Fork or branch?\n",
    "\n",
    "Branch. Probably.\n",
    "\n",
    "Only fork if you're not intending to collaborate any further. You *can* still get changes from the original repo on a fork but it's a bit more complicated.\n",
    "\n",
    "Try to get in the habit of working on a separate branch (call it something informative, like `testing`) and merging your changes back onto `master` when you're ready. So your workfow will look like this\n",
    "\n",
    "> `git clone <url>`\n",
    ">\n",
    "> `git branch testing`\n",
    "\n",
    "LOOP\n",
    "\n",
    "> `git checkout testing`\n",
    ">\n",
    "> work work work work work work\n",
    ">\n",
    "> `git add <file>`\n",
    ">\n",
    "> `git commit -m 'message'`\n",
    ">\n",
    "> `git checkout master`\n",
    ">\n",
    "> `git merge testing`\n",
    ">\n",
    "> `git push`\n",
    "\n",
    "JUMP LOOP"
   ]
  },
  {
   "cell_type": "markdown",
   "metadata": {},
   "source": [
    "## How do I undo changes to files?\n",
    "\n",
    "If you know you definitely won't need them again then\n",
    "\n",
    "> `git reset --hard`\n",
    "\n",
    "will remove all local changes, and\n",
    "\n",
    "> `git checkout -- filename`\n",
    "\n",
    "will reset just one file.\n",
    "\n",
    "\n",
    "If you might want to come back to them then\n",
    "\n",
    "> `git stash`\n",
    "\n",
    "You can see what's stashed with\n",
    "\n",
    "> `git stash list`\n",
    "\n",
    "And you can bring it back with\n",
    "\n",
    "> `git stash apply`\n",
    "\n",
    "If you decide you want to make a new branch with your stashed changes instead, then\n",
    "\n",
    "> `git stash branch`"
   ]
  }
 ],
 "metadata": {
  "kernelspec": {
   "display_name": "Python 3",
   "language": "python",
   "name": "python3"
  },
  "language_info": {
   "codemirror_mode": {
    "name": "ipython",
    "version": 3
   },
   "file_extension": ".py",
   "mimetype": "text/x-python",
   "name": "python",
   "nbconvert_exporter": "python",
   "pygments_lexer": "ipython3",
   "version": "3.6.5"
  }
 },
 "nbformat": 4,
 "nbformat_minor": 2
}
